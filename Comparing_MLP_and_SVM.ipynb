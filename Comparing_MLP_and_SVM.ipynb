{
  "nbformat": 4,
  "nbformat_minor": 0,
  "metadata": {
    "colab": {
      "name": "Comparing MLP and SVM.ipynb",
      "version": "0.3.2",
      "provenance": [],
      "collapsed_sections": []
    },
    "kernelspec": {
      "name": "python3",
      "display_name": "Python 3"
    },
    "accelerator": "GPU"
  },
  "cells": [
    {
      "metadata": {
        "id": "0VPcwYhwZdPu",
        "colab_type": "text"
      },
      "cell_type": "markdown",
      "source": [
        "# Comparing Multilayer Perceptron with Support Vector Machine\n",
        "\n",
        "### by Mitchell Thomas\n",
        "\n",
        "In this project, I will build a multilayer perceptron using Sci-Kit Learn, and then build a Support Vector Machine with the same data and compare the two performances. This was a project that was assigned within my Principles of Machine Learning course.\n",
        "\n",
        "***\n",
        "\n",
        "I will also evaluate my SVM model with K-fold cross validation techniques, where K = 5.\n",
        "***\n",
        "## Step 1: Import packages and initialize vectors\n",
        "\n",
        "After importing needed packages for the purposes of this project, I initially break the Data up into a feature vector and label vector.  The label vector is where I will perform the predictions and the feature vector is the data that I will use to predict a classification.\n",
        "\n",
        "***\n",
        "\n",
        "Futhermore, I will break up the initial vectors into Training sets for the feature and label vectors and Testing sets for the feature and label vectors as well.\n",
        "\n"
      ]
    },
    {
      "metadata": {
        "id": "Bk8WyUBIv1Q6",
        "colab_type": "code",
        "colab": {}
      },
      "cell_type": "code",
      "source": [
        "from sklearn.neural_network import MLPClassifier\n",
        "from sklearn.preprocessing import StandardScaler\n",
        "from sklearn.model_selection import train_test_split\n",
        "from sklearn.metrics import classification_report,confusion_matrix,accuracy_score\n",
        "from sklearn.model_selection import KFold\n",
        "from sklearn.naive_bayes import GaussianNB\n",
        "from sklearn.svm import SVC\n",
        "from sklearn.model_selection import learning_curve\n",
        "from sklearn.model_selection import ShuffleSplit\n",
        "from random import shuffle\n",
        "\n",
        "import numpy as np\n",
        "import pandas as pd\n",
        "import sys\n",
        "import struct\n",
        "import csv\n",
        "import os\n",
        "import matplotlib.pyplot as plt\n",
        "from random import shuffle\n",
        "\n",
        "\n",
        "# open the csv file, shuffle, and transform into suitable Attribute and class \n",
        "# vectors\n",
        "\n",
        "wbc = pd.read_csv('breastcancer.csv')\n",
        "\n",
        "# shuffle\n",
        "wbc = wbc.sample(frac=1)\n",
        "\n",
        "X = wbc.iloc[:,1:9]\n",
        "y = wbc.iloc[:,10]\n",
        "\n",
        "# splitting up training and testing data into appropriate vectors for initial \n",
        "# group\n",
        "\n",
        "X_train, X_test, y_train, y_test = train_test_split(X, y)\n",
        "\n"
      ],
      "execution_count": 0,
      "outputs": []
    },
    {
      "metadata": {
        "id": "TtP46yVLckb0",
        "colab_type": "text"
      },
      "cell_type": "markdown",
      "source": [
        "## Step 2: Data Pre-Processing\n",
        "\n",
        "\n",
        "Standardization is important when building a machine learning model as it creates a Gaussian or normal distribution of the data in the feature vectors so that the predictor model can learn from all of the data, even if extreme, effectively. We accomplish this process using Sci Kit Learn's StandardScaler() function. \n",
        "\n",
        "***\n",
        "\n",
        "This also regularizes the data to prevent overfitting.\n"
      ]
    },
    {
      "metadata": {
        "id": "TGtiZE4lclFs",
        "colab_type": "code",
        "colab": {}
      },
      "cell_type": "code",
      "source": [
        "#############################\n",
        "# INITIAL GROUP PRE-PROCESSING | MLP\n",
        "#############################\n",
        "\n",
        "# Preprocessing - standardize and normalize with sklearn build-in fcn\n",
        "\n",
        "stdScaler = StandardScaler()\n",
        "\n",
        "stdScaler.fit(X_train)\n",
        "\n",
        "X_train = stdScaler.transform(X_train)\n",
        "X_test = stdScaler.transform(X_test)\n",
        "\n"
      ],
      "execution_count": 0,
      "outputs": []
    },
    {
      "metadata": {
        "id": "9V5_L5RxeHLj",
        "colab_type": "text"
      },
      "cell_type": "markdown",
      "source": [
        "## Step 3: Build the Multilayer Perceptron\n",
        "\n",
        "\n",
        "\n",
        "1.   We will initialize the multilayer perceptron using Sci-Kit Learn\n",
        "\n",
        "2.  We will call the fit() function on our MLP classifier, which in this case is called nn.  We fit our model to the training vectors we initialzed above.\n",
        "\n",
        "3. The model is fitted, so now we create a vector of the predictions that the model makes on a testing set.\n",
        "\n",
        "4. For extra visualization I present a confusion matrix that compares my predictions with the correct labels. (If you are not familiar with confusion matrices, for now just know that values along the diagonal represent correct predictions).  This also leads us to an accuracy percentage by dividing the sum of correct predictions by the sum of values in the y_test vector.  \n",
        "\n"
      ]
    },
    {
      "metadata": {
        "id": "JELgwOMceHfD",
        "colab_type": "code",
        "colab": {
          "base_uri": "https://localhost:8080/",
          "height": 221
        },
        "outputId": "7a48ec4b-2897-4ef6-a1db-318a3f3161d5"
      },
      "cell_type": "code",
      "source": [
        "#############################\n",
        "# BUILDING THE INITIAL MLP\n",
        "#############################\n",
        "\n",
        "# I built the Multilayer Perceptron using sklearn\n",
        "\n",
        "# initialize our Multilayer Perceptron\n",
        "nn = MLPClassifier(solver='lbfgs', alpha=1e-5,\n",
        "                    hidden_layer_sizes=(15,), random_state=1)\n",
        "\n",
        "# fit the neural network model\n",
        "nn.fit(X_train, y_train)\n",
        "\n",
        "#create a vector of the actual predictions\n",
        "predictions = nn.predict(X_test)\n",
        "\n",
        "# print a confusion matrix visual\n",
        "print(confusion_matrix(y_test,predictions))\n",
        "\n",
        "# print a table that identifies prediction outputs\n",
        "print(classification_report(y_test,predictions))\n",
        "\n",
        "print(\"Total MLP model accuracy: \" + str(accuracy_score(y_test, predictions, \n",
        "                                                        normalize=True, \n",
        "                                                        sample_weight=None)))\n"
      ],
      "execution_count": 16,
      "outputs": [
        {
          "output_type": "stream",
          "text": [
            "[[112   7]\n",
            " [  6  50]]\n",
            "              precision    recall  f1-score   support\n",
            "\n",
            "           2       0.95      0.94      0.95       119\n",
            "           4       0.88      0.89      0.88        56\n",
            "\n",
            "   micro avg       0.93      0.93      0.93       175\n",
            "   macro avg       0.91      0.92      0.92       175\n",
            "weighted avg       0.93      0.93      0.93       175\n",
            "\n",
            "Total MLP model accuracy: 0.9257142857142857\n"
          ],
          "name": "stdout"
        }
      ]
    },
    {
      "metadata": {
        "id": "ygRWRypOjBUr",
        "colab_type": "text"
      },
      "cell_type": "markdown",
      "source": [
        "## Step 4: Visualize Linear Separability by Plotting a Learning Curve\n",
        "\n",
        "**What is Linear Separability?**\n",
        "\n",
        "Linear Separability refers to checking if one can completely separate classification of data in an n-dimensional space using N - 1 dimensions.  For example, if classification of data is plotted on a single line, if the classes can be separated by a single point it is linearly separable.  Another example is if you can separate classification data by a straight line on a 2-D plot.\n",
        "\n",
        "**Our Learning Curve**\n",
        "\n",
        "From looking at this specific learning curve, the perceptron does not converge and so we can determine that the data in this case is not linearly separable, and with that knowledge, we know that we should use at least one hidden layer in our model."
      ]
    },
    {
      "metadata": {
        "id": "EVe4-RlojBi2",
        "colab_type": "code",
        "colab": {
          "base_uri": "https://localhost:8080/",
          "height": 430
        },
        "outputId": "f7f9925a-f295-4136-d899-e849da291566"
      },
      "cell_type": "code",
      "source": [
        "#############################\n",
        "# LEARNING CURVE USING SKLEARN\n",
        "#############################\n",
        "\n",
        "import numpy as np\n",
        "import matplotlib.pyplot as plt\n",
        "from sklearn.naive_bayes import GaussianNB\n",
        "from sklearn.svm import SVC\n",
        "from sklearn.datasets import load_digits\n",
        "from sklearn.model_selection import learning_curve\n",
        "from sklearn.model_selection import ShuffleSplit\n",
        "\n",
        "# The plot_learning_curve function defined below is from sklearn\n",
        "# Here is the source \n",
        "# https://scikit-learn.org/stable/auto_examples/model_selection/\n",
        "# plot_learning_curve.html\n",
        "\n",
        "def plot_learning_curve(estimator, title, X, y, ylim=None, cv=None,\n",
        "                        n_jobs=None, train_sizes=np.linspace(.1, 1.0, 5)):\n",
        "    \n",
        "    plt.figure()\n",
        "    plt.title(title)\n",
        "    if ylim is not None:\n",
        "        plt.ylim(*ylim)\n",
        "    plt.xlabel(\"Training examples\")\n",
        "    plt.ylabel(\"Score\")\n",
        "    train_sizes, train_scores, test_scores = learning_curve(\n",
        "        estimator, X, y, cv=cv, n_jobs=n_jobs, train_sizes=train_sizes)\n",
        "    train_scores_mean = np.mean(train_scores, axis=1)\n",
        "    train_scores_std = np.std(train_scores, axis=1)\n",
        "    test_scores_mean = np.mean(test_scores, axis=1)\n",
        "    test_scores_std = np.std(test_scores, axis=1)\n",
        "    plt.grid()\n",
        "\n",
        "    plt.fill_between(train_sizes, train_scores_mean - train_scores_std,\n",
        "                     train_scores_mean + train_scores_std, alpha=0.1,\n",
        "                     color=\"r\")\n",
        "    plt.fill_between(train_sizes, test_scores_mean - test_scores_std,\n",
        "                     test_scores_mean + test_scores_std, alpha=0.1, color=\"g\")\n",
        "    plt.plot(train_sizes, train_scores_mean, 'o-', color=\"r\",\n",
        "             label=\"Training score\")\n",
        "    plt.plot(train_sizes, test_scores_mean, 'o-', color=\"g\",\n",
        "             label=\"Testing score\")\n",
        "\n",
        "    plt.legend(loc=\"best\")\n",
        "    return plt\n",
        "\n",
        "title = \"Learning Curve MLP\"\n",
        "estimator = nn\n",
        "plot_learning_curve(estimator, title, X, y, (0.8, 1.01))\n",
        "\n",
        "plt.show()\n",
        "\n",
        "# From the learning curve plot, we can determine that this data is not linearly \n",
        "# separable as the Perceptron does not converge.  This means that we will need\n",
        "# at least one hidden layer.  As one hidden layer will do the job, the number of\n",
        "# neurons in that hidden layer we would use would be as a rule of thumb\n",
        "# around 3 - 5 times the amount of input neurons we have.\n",
        "\n"
      ],
      "execution_count": 17,
      "outputs": [
        {
          "output_type": "stream",
          "text": [
            "/usr/local/lib/python3.6/dist-packages/sklearn/model_selection/_split.py:2053: FutureWarning: You should specify a value for 'cv' instead of relying on the default value. The default value will change from 3 to 5 in version 0.22.\n",
            "  warnings.warn(CV_WARNING, FutureWarning)\n"
          ],
          "name": "stderr"
        },
        {
          "output_type": "display_data",
          "data": {
            "image/png": "[encoded data removed]",
            "text/plain": [
              "<Figure size 576x396 with 1 Axes>"
            ]
          },
          "metadata": {
            "tags": []
          }
        }
      ]
    },
    {
      "metadata": {
        "id": "KxjqHSHfpmoS",
        "colab_type": "text"
      },
      "cell_type": "markdown",
      "source": [
        "## Step 5: Building a Support Vector Machine on same dataset\n",
        "\n",
        "We start building our support vector machine by establishing a svm under the variable vectorMachine with a linear kernel function. We will use a linear function as our SVM will predict on a 2-dimensional space, as our input vector contains one dimensional data.\n",
        "\n",
        "***\n",
        "\n",
        "**What is a kernel function?**\n",
        "\n",
        "This is a key attribute of the SVM model as it is a mathematical function that transforms data into higher dimensional space so that the machine can perform faster calculations (i.e. like creating vectors that serve as boundaries for specific classifications in data).\n",
        "\n",
        "***\n",
        "\n",
        "Next, we fit (train) the machine with a function that operates on our testing sets. \n",
        "\n",
        "***\n",
        "\n",
        "**How does a support vector machine work?**\n",
        "\n",
        "After the kernel function has been applied to our data and we have an appropriate n-dimensional space, the support vector machine finds an optimal hyperplane, or separating line, between the classifications, but as close to the nearest classification as possible.  After the machine has determined the hyperplane it classifies the data, by quickly configuring if incoming data is on either side of the hyperplane.\n",
        "\n",
        "***\n",
        "Finally, after the SVM is fitted and ready for new data, we use the predict() function provided by Sci-Kit Learn and create a vector of predictions on the prime testing set of the Wisconsin Breast Cancer data. And just like the Multilayer Perceptron model above, we can determine model accuracy by dividing the sum of correct predictions the SVM makes by the length of the label vector, y_test.\n",
        "\n",
        "**Although, it's close, the SVM model generally is getting better results!**\n",
        "\n"
      ]
    },
    {
      "metadata": {
        "id": "xYdA0LhMsPCE",
        "colab_type": "text"
      },
      "cell_type": "markdown",
      "source": [
        "## Why does a SVM model work better on this data than a Multilayer perceptron?\n",
        "\n",
        "By default, SVM's usually have higher prediction accuracy than a multilayer perceptron. SVM's might have higher runtime as there are calculations it performs that are advanced like translating n-dimensional space using kernel functions. But it usually does a very good job in its predictions.\n",
        "\n",
        "***\n",
        "\n",
        "In this dataset, we are classifying breast cancer outcomes by various attributes that are observed with each patient. The two classifications our models are predicting are either benign or malignant. This data specifically is prime for an SVM model, as it can easily find the perfect hyperplane after translating the data using its kernel function."
      ]
    },
    {
      "metadata": {
        "id": "1H3Td07tpnDc",
        "colab_type": "code",
        "colab": {
          "base_uri": "https://localhost:8080/",
          "height": 34
        },
        "outputId": "842b8f12-0235-4c14-c192-111e608f8a3d"
      },
      "cell_type": "code",
      "source": [
        "#############################\n",
        "# BUILDING THE SVM\n",
        "#############################\n",
        "\n",
        "from sklearn import svm\n",
        "from sklearn import metrics\n",
        "\n",
        "# I built the Support Vector Machine using appropriate functions from sklearn\n",
        "# libraries\n",
        "\n",
        "vectorMachine = svm.SVC(kernel='linear')\n",
        "\n",
        "#Train the model using the training sets\n",
        "vectorMachine.fit(X_train, y_train)\n",
        "\n",
        "#Predict the response for test dataset\n",
        "y_pred = vectorMachine.predict(X_test)\n",
        "\n",
        "# Model Accuracy\n",
        "\n",
        "print(\"Total SVM model accuracy: \", metrics.accuracy_score(y_test, y_pred))\n",
        "\n",
        "# The Support Vector Machine is on average more accurate than the MLP \n",
        "# Classification"
      ],
      "execution_count": 18,
      "outputs": [
        {
          "output_type": "stream",
          "text": [
            "Total SVM model accuracy:  0.9371428571428572\n"
          ],
          "name": "stdout"
        }
      ]
    },
    {
      "metadata": {
        "id": "LVvaAcnWsRmn",
        "colab_type": "text"
      },
      "cell_type": "markdown",
      "source": [
        "## Step 6: Evaluating the SVM Model with 5-fold Cross Validation Techniques\n",
        "\n",
        "The purpose of this is to cross validate the accuracies the SVM model has on K different versions of the dataset.  In this case 5 different versions. \n",
        "***\n",
        "**How I think of cross-validation techniques**\n",
        "\n",
        "I like to envision 5-fold cross validations as almost like a balance beam visual, where one side is the training portion and the other side is the testing portion of the data, and we have 5 equal weights dispersed across the balance beam.  We start with 1 on testing side and 4 on the training side and then we take from training to testing with K iterations training our model.  So eventually every combination will be tried and it is quite thorough in determining model accuracy.\n",
        "***\n",
        "**Following the code:**\n",
        "\n",
        "1. We splite our data into 5-fold groups \n",
        "2. We pre-process the data, just like we did when we initialized our vectors for the two models above\n",
        "3. Then we train the model we are testing based on these newly split training sets\n",
        "4. Predict accuracy exactly like above, but this time it is with the K-split, in our case 5-split, training sets.\n",
        "\n"
      ]
    },
    {
      "metadata": {
        "id": "BiOzIUtGu-8u",
        "colab_type": "code",
        "colab": {
          "base_uri": "https://localhost:8080/",
          "height": 34
        },
        "outputId": "eaa44b65-5ebb-4761-a929-2f62e20c1499"
      },
      "cell_type": "code",
      "source": [
        "#############################\n",
        "# 5-FOLD CROSS VALIDATION - in order to test my Support Vector Machine accuracy\n",
        "#############################\n",
        "\n",
        "# split training and testing data into appropriate 5-fold vectors\n",
        "\n",
        "X_for_Kfold = np.array(X_train)\n",
        "             \n",
        "y_for_Kfold = np.array(y_train)\n",
        "kf = KFold(n_splits=5)\n",
        "kf.get_n_splits(X)\n",
        "\n",
        "for i, j in kf.split(X_for_Kfold):\n",
        "   X_train2, X_test2 = X_for_Kfold[i], X_for_Kfold[j]\n",
        "   y_train2, y_test2 = y_for_Kfold[i], y_for_Kfold[j]\n",
        "\n",
        "  \n",
        "# pre-process the data\n",
        "\n",
        "stdScaler.fit(X_train2)\n",
        "\n",
        "X_train2 = stdScaler.transform(X_train2)\n",
        "X_test2 = stdScaler.transform(X_test2)\n",
        "\n",
        "#Train the model using the training sets\n",
        "vectorMachine.fit(X_train2, y_train2)\n",
        "\n",
        "#Predict the response for test dataset\n",
        "y_pred2 = vectorMachine.predict(X_test2)\n",
        "\n",
        "# Model Accuracy\n",
        "\n",
        "print(\"Total 5-fold SVM model accuracy: \", \n",
        "      metrics.accuracy_score(y_test2, y_pred2))"
      ],
      "execution_count": 19,
      "outputs": [
        {
          "output_type": "stream",
          "text": [
            "Total 5-fold SVM model accuracy:  0.9903846153846154\n"
          ],
          "name": "stdout"
        }
      ]
    },
    {
      "metadata": {
        "id": "ao6CAEj5wxxY",
        "colab_type": "text"
      },
      "cell_type": "markdown",
      "source": [
        "## Conclusion\n",
        "\n",
        "I found this experiment very conclusive!  It performed pretty much how it was supposed to:\n",
        "\n",
        "\n",
        "*   The Multilayer Perceptron performed pretty well on the data--upwards of 90%.\n",
        "*   The superior performing SVM stole the show, but barely, with a little more predictive accuracy\n",
        "*   When put to a thorough test, the SVM showed its strength in the cross-validation evaluation with a 99% percent accuracy.\n",
        "\n"
      ]
    }
  ]
}